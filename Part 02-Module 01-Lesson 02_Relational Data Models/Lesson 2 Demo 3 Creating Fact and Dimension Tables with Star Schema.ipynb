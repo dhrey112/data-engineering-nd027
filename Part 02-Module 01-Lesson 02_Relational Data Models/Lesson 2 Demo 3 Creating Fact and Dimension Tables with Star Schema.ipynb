{
 "cells": [
  {
   "cell_type": "markdown",
   "metadata": {},
   "source": [
    "# Creating Normalized Tables in PostgresSQL"
   ]
  },
  {
   "cell_type": "code",
   "execution_count": 1,
   "metadata": {},
   "outputs": [],
   "source": [
    "import psycopg2"
   ]
  },
  {
   "cell_type": "markdown",
   "metadata": {},
   "source": [
    "### Let's create the connection to the db and get a cursor for query."
   ]
  },
  {
   "cell_type": "code",
   "execution_count": 2,
   "metadata": {},
   "outputs": [],
   "source": [
    "try:\n",
    "    conn = psycopg2.connect(\"host=localhost user=postgres password=uncle1dee\")\n",
    "except psycopg2.Error as e:\n",
    "    print(\"Error: Could not make connection to the Postgres database\")\n",
    "\n",
    "try:\n",
    "    cur = conn.cursor()\n",
    "except psycopg2.Error as e:\n",
    "    print(\"Error: Could not get cursor to the database\")\n",
    "    print(e)\n",
    "\n",
    "conn.set_session(autocommit=True)    \n"
   ]
  },
  {
   "cell_type": "markdown",
   "metadata": {},
   "source": [
    "### Create the database"
   ]
  },
  {
   "cell_type": "code",
   "execution_count": 3,
   "metadata": {},
   "outputs": [
    {
     "name": "stdout",
     "output_type": "stream",
     "text": [
      "database \"udacity\" already exists\n",
      "\n"
     ]
    }
   ],
   "source": [
    "\n",
    "try:\n",
    "    cur.execute(\"create database udacity\")\n",
    "except psycopg2.Error as e:\n",
    "    print(e)"
   ]
  },
  {
   "cell_type": "code",
   "execution_count": 4,
   "metadata": {},
   "outputs": [
    {
     "name": "stdout",
     "output_type": "stream",
     "text": [
      "\n",
      "Table: Album Library\n",
      "\n",
      "(1, 'Rubber Soul', 1, 1965)\n",
      "(2, 'Let It Be', 1, 1970)\n",
      "\n",
      "Table: Song Library\n",
      "\n",
      "(1, 1, 'Michelle')\n",
      "(2, 1, 'Think For Yourself')\n",
      "(3, 1, 'In my Life')\n",
      "(4, 2, 'Let It Be')\n",
      "(5, 2, 'Across the Universe')\n",
      "\n",
      "Table: Artist Library\n",
      "\n",
      "(1, 'The Beatles')\n",
      "\n",
      "Table: Song length\n",
      "\n",
      "(1, 163)\n",
      "(2, 137)\n",
      "(3, 145)\n",
      "(4, 240)\n",
      "(5, 227)\n"
     ]
    }
   ],
   "source": [
    "# Create all Table\n",
    "\n",
    "try:\n",
    "    cur.execute(\"CREATE TABLE IF NOT EXISTS album_library (album_id int, album_name varchar, artist_id int, year int);\")\n",
    "except psycopg2.Error as e:\n",
    "    print(\"Error: Issue creating table\")\n",
    "    print(e)\n",
    "\n",
    "try:\n",
    "    cur.execute(\"CREATE TABLE IF NOT EXISTS artist_library (artist_id int, artist_name varchar);\")\n",
    "except psycopg2.Error as e:\n",
    "    print(\"Error: Issue creating table\")\n",
    "    print(e)\n",
    "    \n",
    "try:\n",
    "    cur.execute(\"CREATE TABLE IF NOT EXISTS song_library (song_id int, album_id int, song_name varchar);\")\n",
    "except psycopg2.Error as e:\n",
    "    print(\"Error: Issue creating table\")\n",
    "    print(e)\n",
    "\n",
    "try:\n",
    "    cur.execute(\"CREATE TABLE IF NOT EXISTS song_length (song_id int, song_length int);\")\n",
    "except psycopg2.Error as e:\n",
    "    print(\"Error: Issue creating table\")\n",
    "    print(e)\n",
    " \n",
    " \n",
    "# Insert into the tables\n",
    "    \n",
    "try:\n",
    "    cur.execute(\"INSERT INTO album_library (album_id, album_name, artist_id, year) VALUES (%s, %s, %s, %s)\",\n",
    "                (1, \"Rubber Soul\", 1, 1965))\n",
    "except psycopg2.Error as e:\n",
    "        print(\"Error: Inserting Rows\")\n",
    "        print(e)\n",
    "try:\n",
    "    cur.execute(\"INSERT INTO album_library (album_id, album_name, artist_id, year) VALUES (%s, %s, %s, %s)\",\n",
    "                (2, \"Let It Be\", 1, 1970))\n",
    "              \n",
    "except psycopg2.Error as e:\n",
    "        print(\"Error: Inserting Rows\")\n",
    "        print(e)\n",
    "        \n",
    "try:\n",
    "    cur.execute(\"INSERT INTO artist_library (artist_id, artist_name) VALUES (%s, %s)\",\n",
    "                (1, \"The Beatles\"))\n",
    "              \n",
    "except psycopg2.Error as e:\n",
    "        print(\"Error: Inserting Rows\")\n",
    "        print(e)\n",
    "        \n",
    "\n",
    "\n",
    "try:\n",
    "    cur.execute(\"INSERT INTO song_library (song_id, album_id, song_name) VALUES (%s, %s, %s)\",\n",
    "                (1, 1, \"Michelle\"))\n",
    "              \n",
    "except psycopg2.Error as e:\n",
    "        print(\"Error: Inserting Rows\")\n",
    "        print(e)\n",
    "        \n",
    "try:\n",
    "    cur.execute(\"INSERT INTO song_library (song_id, album_id, song_name) VALUES (%s, %s, %s)\",\n",
    "                (2, 1, \"Think For Yourself\"))\n",
    "              \n",
    "except psycopg2.Error as e:\n",
    "        print(\"Error: Inserting Rows\")\n",
    "        print(e)\n",
    "        \n",
    "try:\n",
    "    cur.execute(\"INSERT INTO song_library (song_id, album_id, song_name) VALUES (%s, %s, %s)\",\n",
    "                (3, 1, \"In my Life\"))\n",
    "              \n",
    "except psycopg2.Error as e:\n",
    "        print(\"Error: Inserting Rows\")\n",
    "        print(e)\n",
    "        \n",
    "try:\n",
    "    cur.execute(\"INSERT INTO song_library (song_id, album_id, song_name) VALUES (%s, %s, %s)\",\n",
    "                (4, 2, \"Let It Be\"))\n",
    "              \n",
    "except psycopg2.Error as e:\n",
    "        print(\"Error: Inserting Rows\")\n",
    "        print(e)\n",
    "        \n",
    "try:\n",
    "    cur.execute(\"INSERT INTO song_library (song_id, album_id, song_name) VALUES (%s, %s, %s)\",\n",
    "                (5, 2, \"Across the Universe\"))\n",
    "              \n",
    "except psycopg2.Error as e:\n",
    "        print(\"Error: Inserting Rows\")\n",
    "        print(e)\n",
    "\n",
    "        \n",
    "\n",
    "try:\n",
    "    cur.execute(\"INSERT INTO song_length (song_id, song_length) VALUES (%s, %s)\",\n",
    "                (1, 163))\n",
    "              \n",
    "except psycopg2.Error as e:\n",
    "        print(\"Error: Inserting Rows\")\n",
    "        print(e)\n",
    "try:\n",
    "    cur.execute(\"INSERT INTO song_length (song_id, song_length) VALUES (%s, %s)\",\n",
    "                (2, 137))\n",
    "              \n",
    "except psycopg2.Error as e:\n",
    "        print(\"Error: Inserting Rows\")\n",
    "        print(e)\n",
    "        \n",
    "try:\n",
    "    cur.execute(\"INSERT INTO song_length (song_id, song_length) VALUES (%s, %s)\",\n",
    "                (3, 145))\n",
    "              \n",
    "except psycopg2.Error as e:\n",
    "        print(\"Error: Inserting Rows\")\n",
    "        print(e)\n",
    "        \n",
    "try:\n",
    "    cur.execute(\"INSERT INTO song_length (song_id, song_length) VALUES (%s, %s)\",\n",
    "                (4, 240))\n",
    "              \n",
    "except psycopg2.Error as e:\n",
    "        print(\"Error: Inserting Rows\")\n",
    "        print(e)\n",
    "        \n",
    "try:\n",
    "    cur.execute(\"INSERT INTO song_length (song_id, song_length) VALUES (%s, %s)\",\n",
    "                (5, 227))\n",
    "              \n",
    "except psycopg2.Error as e:\n",
    "        print(\"Error: Inserting Rows\")\n",
    "        print(e)\n",
    "        \n",
    "\n",
    "# Print all result\n",
    "\n",
    "print(\"\\nTable: Album Library\\n\")\n",
    "try:\n",
    "    cur.execute(\"SELECT * FROM album_library\")\n",
    "except psycopg2.Error as e:\n",
    "    print(\"Error: select *\")\n",
    "    print(e)\n",
    "    \n",
    "row = cur.fetchone()\n",
    "while row:\n",
    "    print(row)\n",
    "    row = cur.fetchone()\n",
    "    \n",
    "\n",
    "print(\"\\nTable: Song Library\\n\")\n",
    "\n",
    "try:\n",
    "    cur.execute(\"SELECT * from song_library\")\n",
    "except psycopg2.Error as e:\n",
    "    print(\"Eroor: select *\")\n",
    "    print(e)\n",
    "    \n",
    "row = cur.fetchone()\n",
    "while row:\n",
    "    print(row)\n",
    "    row = cur.fetchone()\n",
    "    \n",
    "    \n",
    "    \n",
    "print(\"\\nTable: Artist Library\\n\")\n",
    "try:\n",
    "    cur.execute(\"SELECT * FROM artist_library\")\n",
    "except psycopg2.Error as e:\n",
    "    print(\"Error: Select *\")\n",
    "    print(e)\n",
    "    \n",
    "row = cur.fetchone()\n",
    "while row:\n",
    "    print(row)\n",
    "    row = cur.fetchone()\n",
    "    \n",
    "print(\"\\nTable: Song length\\n\")\n",
    "try:\n",
    "    cur.execute(\"Select * from song_length\")\n",
    "except psycopg2.Error as e:\n",
    "    print(\"Error: Select *\")\n",
    "    print(e)\n",
    "    \n",
    "row = cur.fetchone()\n",
    "while row:\n",
    "    print(row)\n",
    "    row = cur.fetchone()"
   ]
  },
  {
   "cell_type": "markdown",
   "metadata": {},
   "source": [
    "### Let's say we need to do query that gives us:\n",
    "album_id, album_name, artist_id, year, song_id, song_length, song_name, artist_name\n",
    "\n",
    "#### we will need to perform a 3 way JOIN on the tables we have created."
   ]
  },
  {
   "cell_type": "code",
   "execution_count": 5,
   "metadata": {},
   "outputs": [
    {
     "name": "stdout",
     "output_type": "stream",
     "text": [
      "(1, 'The Beatles', 1, 'Rubber Soul', 1965, 1, 'Michelle', 163)\n",
      "(1, 'The Beatles', 1, 'Rubber Soul', 1965, 2, 'Think For Yourself', 137)\n",
      "(1, 'The Beatles', 1, 'Rubber Soul', 1965, 3, 'In my Life', 145)\n",
      "(1, 'The Beatles', 2, 'Let It Be', 1970, 4, 'Let It Be', 240)\n",
      "(1, 'The Beatles', 2, 'Let It Be', 1970, 5, 'Across the Universe', 227)\n"
     ]
    }
   ],
   "source": [
    "try:\n",
    "    cur.execute(\"SELECT artist_library.artist_id, artist_name, album_library.album_id,\\\n",
    "    album_name, year, song_library.song_id, song_name, song_length \\\n",
    "    FROM ((artist_library JOIN album_library ON \\\n",
    "    artist_library.artist_id = album_library.artist_id) JOIN \\\n",
    "    song_library ON album_library.album_id = song_library.album_id) JOIN\\\n",
    "    song_length ON song_library.song_id = song_length.song_id;\")\n",
    "    \n",
    "except psycopg2.Error as e:\n",
    "    print(\"Error: select *\")\n",
    "    print(e)\n",
    "    \n",
    "row = cur.fetchone()\n",
    "while row:\n",
    "    print(row)\n",
    "    row = cur.fetchone()"
   ]
  },
  {
   "cell_type": "markdown",
   "metadata": {},
   "source": [
    "##### We had to do 3 JOIN to achieve this but remember that JOINS are slow and if we have heavy workload that required low latency queries we want to reduce the number of JOINS. Let's think about Denormalising our normalised tables.\n",
    "\n",
    "With denormalisation we want to think about the queries we are runing and how we can reduce the number of JOINS even if that means duplicating data\n",
    "\n",
    "\n",
    "##### Query 1:\n",
    "Select artist_name, album_name, year, song_name, song_length FROM (min number of tables)\n",
    "I want a list of all songs\n",
    "\n",
    "\n",
    "##### Query 2:\n",
    "Select album_name, SUM(song_length) FROM (min number of tables) GROUP BY album_name\n",
    "I want to know the length of each album in seconds\n",
    "<hr>\n",
    "\n",
    "##### Query 1:\n",
    "Select artist_name, album_name, year, song_name, song_length FROM (min number of tables)\n",
    "TO reduce the number of tables this is more straight forward. Let's first add song_length to the song_library table and artist_name to album_library"
   ]
  },
  {
   "cell_type": "code",
   "execution_count": 6,
   "metadata": {},
   "outputs": [
    {
     "name": "stdout",
     "output_type": "stream",
     "text": [
      "\n",
      "Table: Album Library 1\n",
      "(1, 'Rubber Soul', 'The Beatles', 1965)\n",
      "(2, 'Let It Be', 'The Beatles', 1970)\n",
      "\n",
      "Table: Song Library 1\n",
      "(1, 1, 'Michelle', 163)\n",
      "(2, 1, 'Think For Yourself', 137)\n",
      "(3, 1, 'In my Life', 145)\n",
      "(4, 2, 'Let It Be', 240)\n",
      "(5, 2, 'Across the Universe', 227)\n"
     ]
    }
   ],
   "source": [
    "# Create the table\n",
    "try:\n",
    "    cur.execute(\"CREATE TABLE IF NOT EXISTS album_library1 (album_id int, album_name varchar, artist_name varchar, year int);\")\n",
    "except psycopg2.Error as e:\n",
    "    print(\"Error: Issue creating table\")\n",
    "\n",
    "try:\n",
    "    cur.execute(\"CREATE TABLE IF NOT EXISTS song_library1 (song_id int, album_id int, song_name varchar, song_length int);\")\n",
    "except psycopg2.Error as e:\n",
    "    print(\"Error: Issue creating table\")\n",
    "\n",
    "\n",
    "# Insert into all tables\n",
    "try:\n",
    "    cur.execute(\"INSERT INTO album_library1 (album_id, album_name, artist_name, year) VALUES (%s, %s, %s, %s)\",\n",
    "                (1, \"Rubber Soul\", \"The Beatles\", 1965))\n",
    "except psycopg2.Error as e:\n",
    "        print(\"Error: Inserting Rows\")\n",
    "        print(e)\n",
    "try:\n",
    "    cur.execute(\"INSERT INTO album_library1 (album_id, album_name, artist_name, year) VALUES (%s, %s, %s, %s)\",\n",
    "                (2, \"Let It Be\", \"The Beatles\", 1970))\n",
    "              \n",
    "except psycopg2.Error as e:\n",
    "        print(\"Error: Inserting Rows\")\n",
    "        print(e)\n",
    "        \n",
    "\n",
    "\n",
    "try:\n",
    "    cur.execute(\"INSERT INTO song_library1 (song_id, album_id, song_name, song_length) VALUES (%s, %s, %s, %s)\",\n",
    "                (1, 1, \"Michelle\", 163))\n",
    "              \n",
    "except psycopg2.Error as e:\n",
    "        print(\"Error: Inserting Rows\")\n",
    "        print(e)\n",
    "        \n",
    "try:\n",
    "    cur.execute(\"INSERT INTO song_library1 (song_id, album_id, song_name, song_length) VALUES (%s, %s, %s, %s)\",\n",
    "                (2, 1, \"Think For Yourself\", 137))\n",
    "              \n",
    "except psycopg2.Error as e:\n",
    "        print(\"Error: Inserting Rows\")\n",
    "        print(e)\n",
    "        \n",
    "try:\n",
    "    cur.execute(\"INSERT INTO song_library1 (song_id, album_id, song_name, song_length) VALUES (%s, %s, %s, %s)\",\n",
    "                (3, 1, \"In my Life\", 145))\n",
    "              \n",
    "except psycopg2.Error as e:\n",
    "        print(\"Error: Inserting Rows\")\n",
    "        print(e)\n",
    "        \n",
    "try:\n",
    "    cur.execute(\"INSERT INTO song_library1 (song_id, album_id, song_name, song_length) VALUES (%s, %s, %s, %s)\",\n",
    "                (4, 2, \"Let It Be\",240))\n",
    "              \n",
    "except psycopg2.Error as e:\n",
    "        print(\"Error: Inserting Rows\")\n",
    "        print(e)\n",
    "        \n",
    "try:\n",
    "    cur.execute(\"INSERT INTO song_library1 (song_id, album_id, song_name, song_length) VALUES (%s, %s, %s, %s)\",\n",
    "                (5, 2, \"Across the Universe\", 227))\n",
    "except psycopg2.Error  as e:\n",
    "    print(\"Error: Inserting rows\")\n",
    "    \n",
    "# Print the result\n",
    "print(\"\\nTable: Album Library 1\")\n",
    "try:\n",
    "    cur.execute(\"Select * FROM album_library1\")\n",
    "except psycopg2.Error as e:\n",
    "    print(\"Error: Select *\")\n",
    "    print(e)\n",
    "row = cur.fetchone()\n",
    "while row:\n",
    "    print(row)\n",
    "    row = cur.fetchone()\n",
    "    \n",
    "\n",
    "print(\"\\nTable: Song Library 1\")\n",
    "try:\n",
    "    cur.execute(\"Select * FROM song_library1\")\n",
    "except psycopg2.Error as e:\n",
    "    print(\"Error: Select *\")\n",
    "    print(e)\n",
    "row = cur.fetchone()\n",
    "while row:\n",
    "    print(row)\n",
    "    row = cur.fetchone()"
   ]
  },
  {
   "cell_type": "markdown",
   "metadata": {},
   "source": [
    "##### We can now do a simplified query to get the information. Only one JOIN is needed\n",
    "\n",
    "##### Query 1:\n",
    "Select artist_name, album_name, year, song_name, song_length FROM (min number of tables)\n",
    "I want a list of all songs\n"
   ]
  },
  {
   "cell_type": "code",
   "execution_count": 7,
   "metadata": {},
   "outputs": [
    {
     "name": "stdout",
     "output_type": "stream",
     "text": [
      "('The Beatles', 'Rubber Soul', 1965, 'Michelle', 163)\n",
      "('The Beatles', 'Rubber Soul', 1965, 'Think For Yourself', 137)\n",
      "('The Beatles', 'Rubber Soul', 1965, 'In my Life', 145)\n",
      "('The Beatles', 'Let It Be', 1970, 'Let It Be', 240)\n",
      "('The Beatles', 'Let It Be', 1970, 'Across the Universe', 227)\n"
     ]
    }
   ],
   "source": [
    "try:\n",
    "    cur.execute(\"SELECT artist_name, album_name, year, song_name, song_length \\\n",
    "    FROM song_library1 JOIN album_library1 ON song_library1.album_id = album_library1.album_id;\")\n",
    "    \n",
    "except psycopg2.Error as e:\n",
    "    print(\"Error: select *\")\n",
    "    print(e)\n",
    "    \n",
    "row = cur.fetchone()\n",
    "while row:\n",
    "    print(row)\n",
    "    row = cur.fetchone()"
   ]
  },
  {
   "cell_type": "markdown",
   "metadata": {},
   "source": [
    "#### Query 2:\n",
    "Select album_name, SUM(song_length) FROM (min number of tables) GROUP BY album_name I want to know the length of each album in seconds\n",
    "\n",
    "We can do this by using JOIN but we don't want any JOIN so create another table called album_length\n",
    "\n"
   ]
  },
  {
   "cell_type": "code",
   "execution_count": 8,
   "metadata": {},
   "outputs": [
    {
     "name": "stdout",
     "output_type": "stream",
     "text": [
      "(1, 'Rubber Soul', 163)\n",
      "(1, 'Rubber Soul', 137)\n",
      "(1, 'Rubber Soul', 145)\n",
      "(2, 'Let It Be', 240)\n",
      "(2, 'Let It Be', 227)\n"
     ]
    }
   ],
   "source": [
    "# Create the table\n",
    "try:\n",
    "    cur.execute(\"CREATE TABLE IF NOT EXISTS album_length (song_id int, album_name varchar, song_length int);\")\n",
    "except psycopg2.Error as e:\n",
    "    print(\"Error: Issue creating table\")\n",
    "    print(e)\n",
    "    \n",
    "# Insert into the table\n",
    "\n",
    "try:\n",
    "    cur.execute(\"INSERT INTO album_length (song_id, album_name, song_length) VALUES (%s, %s, %s)\",\n",
    "                (1, \"Rubber Soul\", 163))\n",
    "except psycopg2.Error as e:\n",
    "    print(\"Error: Inserting rows\")\n",
    "    print(e)\n",
    "\n",
    "try:\n",
    "    cur.execute(\"INSERT INTO album_length (song_id, album_name, song_length) VALUES(%s, %s, %s)\",\n",
    "                (1, \"Rubber Soul\", 137))\n",
    "except psycopg2.Error as e:\n",
    "    print(\"Error: Inserting rows\")\n",
    "    print(e)\n",
    "\n",
    "try:\n",
    "    cur.execute(\"INSERT INTO album_length (song_id, album_name, song_length) VALUES(%s, %s, %s)\",\n",
    "                (1, \"Rubber Soul\", 145))\n",
    "except psycopg2.Error as e:\n",
    "    print(\"Error: Inserting rows\")\n",
    "    print(e)\n",
    "                \n",
    "try:\n",
    "    cur.execute(\"INSERT INTO album_length (song_id, album_name, song_length) VALUES(%s, %s, %s)\",\n",
    "                (2, \"Let It Be\", 240))\n",
    "except psycopg2.Error as e:\n",
    "    print(\"Error: Inserting rows\")\n",
    "    print(e)\n",
    "\n",
    "try: \n",
    "    cur.execute(\"INSERT INTO album_length (song_id, album_name, song_length) VALUES (%s, %s, %s)\",\n",
    "                (2, \"Let It Be\", 227))\n",
    "except psycopg2.Error as e:\n",
    "    print(\"Error: Inserting rows\")\n",
    "    print(e)\n",
    "    \n",
    "try:\n",
    "    cur.execute(\"SELECT * from album_length\")\n",
    "except pycopg2.Error as e:\n",
    "    print(\"Error: Select *\")\n",
    "    print(e)\n",
    "row = cur.fetchone()\n",
    "while row:\n",
    "    print(row)\n",
    "    row = cur.fetchone()\n",
    "    "
   ]
  },
  {
   "cell_type": "markdown",
   "metadata": {},
   "source": [
    "#### Now let's run the query 2"
   ]
  },
  {
   "cell_type": "code",
   "execution_count": 9,
   "metadata": {},
   "outputs": [
    {
     "name": "stdout",
     "output_type": "stream",
     "text": [
      "('Rubber Soul', 445)\n",
      "('Let It Be', 467)\n"
     ]
    }
   ],
   "source": [
    "try:\n",
    "    cur.execute(\"Select album_name, SUM(song_length) FROM album_length GROUP BY album_name;\")\n",
    "except psycopg2.Error as e:\n",
    "    print(\"Error: select *\")\n",
    "    print(e)\n",
    "\n",
    "row = cur.fetchone()\n",
    "while row:\n",
    "    print(row)\n",
    "    row = cur.fetchone()"
   ]
  },
  {
   "cell_type": "markdown",
   "metadata": {},
   "source": [
    "#### Let's do a JOIN on this table so we can get all the information we had on the first table "
   ]
  },
  {
   "cell_type": "code",
   "execution_count": 10,
   "metadata": {},
   "outputs": [
    {
     "name": "stdout",
     "output_type": "stream",
     "text": [
      "(1, 'Rubber Soul', 1, 1965, 1, 1, 'Michelle')\n",
      "(1, 'Rubber Soul', 1, 1965, 2, 1, 'Think For Yourself')\n",
      "(1, 'Rubber Soul', 1, 1965, 3, 1, 'In my Life')\n",
      "(2, 'Let It Be', 1, 1970, 4, 2, 'Let It Be')\n",
      "(2, 'Let It Be', 1, 1970, 5, 2, 'Across the Universe')\n"
     ]
    }
   ],
   "source": [
    "try:\n",
    "    cur.execute(\"SELECT * FROM album_library JOIN song_library on album_library.album_id = song_library.album_id;\")\n",
    "except psycopg2.Error as e:\n",
    "    print(\"Error: Select *\")\n",
    "    print(e)\n",
    "    \n",
    "row = cur.fetchone()\n",
    "while row:\n",
    "    print(row)\n",
    "    row = cur.fetchone()"
   ]
  },
  {
   "cell_type": "markdown",
   "metadata": {},
   "source": [
    "### Drop all the tables"
   ]
  },
  {
   "cell_type": "code",
   "execution_count": 11,
   "metadata": {},
   "outputs": [],
   "source": [
    "    \n",
    "try:\n",
    "    cur.execute(\"DROP table song_library\")\n",
    "except psycopg2.Error as e:\n",
    "    print(\"Error: Dropping table\")\n",
    "    print(e)\n",
    "\n",
    "try:\n",
    "    cur.execute(\"DROP table song_library1\")\n",
    "except psycopg2.Error as e:\n",
    "    print(\"Error: Dropping table\")\n",
    "    print(e)\n",
    "\n",
    "try:\n",
    "    cur.execute(\"DROP table album_library\")\n",
    "except psycopg2.Error as e:\n",
    "    print(\"Error: Dropping table\")\n",
    "    print(e)\n",
    "    \n",
    "try:\n",
    "    cur.execute(\"DROP table album_library1\")\n",
    "except psycopg2.Error as e:\n",
    "    print(\"Error: Dropping table\")\n",
    "    print(e)\n",
    "    \n",
    "try:\n",
    "    cur.execute(\"DROP table artist_library\")\n",
    "except psycopg2.Error as e:\n",
    "    print(\"Error: Dropping table\")\n",
    "    print(e)\n",
    "\n",
    "try:\n",
    "    cur.execute(\"DROP table song_length\")\n",
    "except psycopg2.Error as e:\n",
    "    print(\"Error: Dropping table\")\n",
    "    print(e)\n",
    "try:\n",
    "    cur.execute(\"DROP table album_length\")\n",
    "except psycopg2.Error as e:\n",
    "    print(\"Error: Dropping table\")\n",
    "    print(e)"
   ]
  },
  {
   "cell_type": "markdown",
   "metadata": {},
   "source": [
    "### And Finally close your cursor and connection."
   ]
  },
  {
   "cell_type": "code",
   "execution_count": 12,
   "metadata": {},
   "outputs": [],
   "source": [
    "cur.close()\n",
    "conn.close()"
   ]
  },
  {
   "cell_type": "code",
   "execution_count": null,
   "metadata": {},
   "outputs": [],
   "source": []
  },
  {
   "cell_type": "code",
   "execution_count": null,
   "metadata": {},
   "outputs": [],
   "source": []
  },
  {
   "cell_type": "code",
   "execution_count": null,
   "metadata": {},
   "outputs": [],
   "source": []
  },
  {
   "cell_type": "code",
   "execution_count": null,
   "metadata": {},
   "outputs": [],
   "source": []
  },
  {
   "cell_type": "code",
   "execution_count": null,
   "metadata": {},
   "outputs": [],
   "source": []
  }
 ],
 "metadata": {
  "kernelspec": {
   "display_name": "Python 3",
   "language": "python",
   "name": "python3"
  },
  "language_info": {
   "codemirror_mode": {
    "name": "ipython",
    "version": 3
   },
   "file_extension": ".py",
   "mimetype": "text/x-python",
   "name": "python",
   "nbconvert_exporter": "python",
   "pygments_lexer": "ipython3",
   "version": "3.7.9"
  }
 },
 "nbformat": 4,
 "nbformat_minor": 4
}
