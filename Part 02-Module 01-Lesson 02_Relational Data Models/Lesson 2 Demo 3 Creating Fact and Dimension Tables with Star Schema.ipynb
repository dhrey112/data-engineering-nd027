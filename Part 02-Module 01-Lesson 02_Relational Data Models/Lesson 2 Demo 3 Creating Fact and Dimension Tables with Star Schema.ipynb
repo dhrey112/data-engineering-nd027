{
 "cells": [
  {
   "cell_type": "markdown",
   "metadata": {},
   "source": [
    "# Creating Fact and Dimension Tables with Star Schema in PostgresSQL"
   ]
  },
  {
   "cell_type": "code",
   "execution_count": 1,
   "metadata": {},
   "outputs": [],
   "source": [
    "import psycopg2"
   ]
  },
  {
   "cell_type": "markdown",
   "metadata": {},
   "source": [
    "### Let's create the connection to the db and get a cursor for query."
   ]
  },
  {
   "cell_type": "code",
   "execution_count": 2,
   "metadata": {},
   "outputs": [],
   "source": [
    "try:\n",
    "    conn = psycopg2.connect(\"host=localhost user=postgres password=uncle1dee\")\n",
    "except psycopg2.Error as e:\n",
    "    print(\"Error: Could not make connection to the Postgres database\")\n",
    "\n",
    "try:\n",
    "    cur = conn.cursor()\n",
    "except psycopg2.Error as e:\n",
    "    print(\"Error: Could not get cursor to the database\")\n",
    "    print(e)\n",
    "\n",
    "conn.set_session(autocommit=True)    \n"
   ]
  },
  {
   "cell_type": "markdown",
   "metadata": {},
   "source": [
    "### Create the database"
   ]
  },
  {
   "cell_type": "code",
   "execution_count": 3,
   "metadata": {},
   "outputs": [
    {
     "name": "stdout",
     "output_type": "stream",
     "text": [
      "database \"udacity\" already exists\n",
      "\n"
     ]
    }
   ],
   "source": [
    "\n",
    "try:\n",
    "    cur.execute(\"create database udacity\")\n",
    "except psycopg2.Error as e:\n",
    "    print(e)"
   ]
  },
  {
   "cell_type": "markdown",
   "metadata": {},
   "source": [
    "### Let create the Fact Table and Insert the data into the table"
   ]
  },
  {
   "cell_type": "code",
   "execution_count": 4,
   "metadata": {},
   "outputs": [],
   "source": [
    "# Create all Table\n",
    "\n",
    "try:\n",
    "    cur.execute(\"CREATE TABLE IF NOT EXISTS customer_transactions (customer_id int, store_id int, spent numeric);\") # Fact table\n",
    "except psycopg2.Error as e:\n",
    "    print(\"Error: Issue creating table\")\n",
    "    print(e)\n",
    "    \n",
    "# Insert into the tables\n",
    "    \n",
    "try:\n",
    "    cur.execute(\"INSERT INTO customer_transactions (customer_id, store_id, spent) VALUES (%s, %s, %s)\",\n",
    "                (1, 1, 20.50))\n",
    "except psycopg2.Error as e:\n",
    "        print(\"Error: Inserting Rows\")\n",
    "        print(e)\n",
    "        \n",
    "try:\n",
    "    cur.execute(\"INSERT INTO customer_transactions (customer_id, store_id, spent) VALUES (%s, %s, %s)\",\n",
    "                (2, 1, 35.21))\n",
    "except psycopg2.Error as e:\n",
    "        print(\"Error: Inserting Rows\")\n",
    "        print(e)"
   ]
  },
  {
   "cell_type": "markdown",
   "metadata": {},
   "source": [
    "### Let's create the Dimension Table and insert the data"
   ]
  },
  {
   "cell_type": "code",
   "execution_count": 5,
   "metadata": {},
   "outputs": [],
   "source": [
    "try:\n",
    "    cur.execute(\"CREATE TABLE IF NOT EXISTS items_purchased (customer_id int, item_number int, item_name varchar);\")\n",
    "except psycopg2.Error as e:\n",
    "    print(\"Error: Issue creating table\")\n",
    "    print(e)\n",
    "\n",
    "# Insert into the tables\n",
    "try:\n",
    "    cur.execute(\"INSERT INTO items_purchased (customer_id, item_number, item_name) VALUES (%s, %s, %s)\",\n",
    "                (1, 1, \"Rubber Soul\"))\n",
    "except psycopg2.Error as e:\n",
    "        print(\"Error: Inserting Rows\")\n",
    "        print(e)\n",
    "        \n",
    "try:\n",
    "    cur.execute(\"INSERT INTO items_purchased (customer_id, item_number, item_name) VALUES (%s, %s, %s)\",\n",
    "                (2, 3, \"Let It Be\"))\n",
    "except psycopg2.Error as e:\n",
    "        print(\"Error: Inserting Rows\")\n",
    "        print(e)\n",
    "\n",
    "        \n",
    "try:\n",
    "    cur.execute(\"CREATE TABLE IF NOT EXISTS store (store_id int, state varchar);\")\n",
    "except psycopg2.Error as e:\n",
    "    print(\"Error: Issue creating table\")\n",
    "    print(e)\n",
    "    \n",
    "# Insert into the tables\n",
    "\n",
    "try:\n",
    "    cur.execute(\"INSERT INTO store (store_id, state) VALUES (%s, %s)\",\n",
    "                (1, \"CA\"))\n",
    "              \n",
    "except psycopg2.Error as e:\n",
    "        print(\"Error: Inserting Rows\")\n",
    "        print(e)\n",
    "\n",
    "\n",
    "try:\n",
    "    cur.execute(\"INSERT INTO store (store_id, state) VALUES (%s, %s)\",\n",
    "                (2, \"WA\"))\n",
    "              \n",
    "except psycopg2.Error as e:\n",
    "        print(\"Error: Inserting Rows\")\n",
    "        print(e)\n",
    "        \n",
    "        \n",
    "try:\n",
    "    cur.execute(\"CREATE TABLE IF NOT EXISTS customer (customer_id int, name varchar, reward boolean);\")\n",
    "except psycopg2.Error as e:\n",
    "    print(\"Error: Issue creating table\")\n",
    "    print(e)\n",
    " \n",
    " \n",
    "# Insert into the tables\n",
    "    \n",
    "\n",
    "try:\n",
    "    cur.execute(\"INSERT INTO customer (customer_id, name, reward) VALUES (%s, %s, %s)\",\n",
    "                (1, \"Amanda\", True))\n",
    "              \n",
    "except psycopg2.Error as e:\n",
    "        print(\"Error: Inserting Rows\")\n",
    "        print(e)\n",
    "        \n",
    "\n",
    "try:\n",
    "    cur.execute(\"INSERT INTO customer (customer_id, name, reward) VALUES (%s, %s, %s)\",\n",
    "                (2, \"Toby\", False))\n",
    "except psycopg2.Error as e:\n",
    "        print(\"Error: Inserting Rows\")\n",
    "        print(e)             \n"
   ]
  },
  {
   "cell_type": "markdown",
   "metadata": {},
   "source": [
    "### We can do a variety of queries on his data easily because of utilizing the fact/dimension and Star schema\n",
    "- Query 1: Find all the customers that spent more than 30 dollars, who are they, what did they buy and if they are a rewards member\n",
    "- Query 2: How much did store 1 sell"
   ]
  },
  {
   "cell_type": "markdown",
   "metadata": {},
   "source": [
    "##### Query 1: Find all the customers that spent more than 30 dollars, who are they, what did they buy and if they are a rewards member"
   ]
  },
  {
   "cell_type": "code",
   "execution_count": 6,
   "metadata": {},
   "outputs": [
    {
     "name": "stdout",
     "output_type": "stream",
     "text": [
      "('Toby', 'Let It Be', False)\n"
     ]
    }
   ],
   "source": [
    "try:\n",
    "    cur.execute(\"SELECT name, item_name, reward FROM ((customer_transactions \\\n",
    "    JOIN customer on customer.customer_id=customer_transactions.customer_id)\\\n",
    "    JOIN items_purchased ON \\\n",
    "    customer_transactions.customer_id=items_purchased.customer_id)\\\n",
    "    WHERE spent > 30;\")\n",
    "    \n",
    "except psycopg2.Error as e:\n",
    "    print(\"Error: select *\")\n",
    "    print(e)\n",
    "    \n",
    "row = cur.fetchone()\n",
    "while row:\n",
    "    print(row)\n",
    "    row = cur.fetchone()"
   ]
  },
  {
   "cell_type": "markdown",
   "metadata": {},
   "source": [
    "#### - Query 2: How much did store 1 sell"
   ]
  },
  {
   "cell_type": "code",
   "execution_count": 7,
   "metadata": {},
   "outputs": [
    {
     "name": "stdout",
     "output_type": "stream",
     "text": [
      "(1, Decimal('55.71'))\n"
     ]
    }
   ],
   "source": [
    "try:\n",
    "    cur.execute(\"SELECT store_id, sum(spent) from customer_transactions group by store_id;\")\n",
    "except psycopg2.Error as e:\n",
    "    print(\"Error: Select*\")\n",
    "    print(e)\n",
    "    \n",
    "row = cur.fetchone()\n",
    "while row:\n",
    "    print(row)\n",
    "    row = cur.fetchone()"
   ]
  },
  {
   "cell_type": "markdown",
   "metadata": {},
   "source": [
    "### Summary: What you can see here is from this elegant schema we were able to get \"Facts/Metrics from our fact table (how much each store sold), and also information about our customers that will allow us to do more indepth analytics to get answers to business questions by utilizimg our fact and dimension tables"
   ]
  },
  {
   "cell_type": "markdown",
   "metadata": {},
   "source": [
    "### Drop all the tables"
   ]
  },
  {
   "cell_type": "code",
   "execution_count": 8,
   "metadata": {},
   "outputs": [],
   "source": [
    "    \n",
    "try:\n",
    "    cur.execute(\"DROP table customer_transactions\")\n",
    "except psycopg2.Error as e:\n",
    "    print(\"Error: Dropping table\")\n",
    "    print(e)\n",
    "\n",
    "try:\n",
    "    cur.execute(\"DROP table items_purchased\")\n",
    "except psycopg2.Error as e:\n",
    "    print(\"Error: Dropping table\")\n",
    "    print(e)\n",
    "\n",
    "try:\n",
    "    cur.execute(\"DROP table customer\")\n",
    "except psycopg2.Error as e:\n",
    "    print(\"Error: Dropping table\")\n",
    "    print(e)\n",
    "    \n",
    "try:\n",
    "    cur.execute(\"DROP table store\")\n",
    "except psycopg2.Error as e:\n",
    "    print(\"Error: Dropping table\")\n",
    "    print(e)\n"
   ]
  },
  {
   "cell_type": "markdown",
   "metadata": {},
   "source": [
    "### And Finally close your cursor and connection."
   ]
  },
  {
   "cell_type": "code",
   "execution_count": 9,
   "metadata": {},
   "outputs": [],
   "source": [
    "cur.close()\n",
    "conn.close()"
   ]
  },
  {
   "cell_type": "code",
   "execution_count": null,
   "metadata": {},
   "outputs": [],
   "source": []
  },
  {
   "cell_type": "code",
   "execution_count": null,
   "metadata": {},
   "outputs": [],
   "source": []
  },
  {
   "cell_type": "code",
   "execution_count": null,
   "metadata": {},
   "outputs": [],
   "source": []
  },
  {
   "cell_type": "code",
   "execution_count": null,
   "metadata": {},
   "outputs": [],
   "source": []
  },
  {
   "cell_type": "code",
   "execution_count": null,
   "metadata": {},
   "outputs": [],
   "source": []
  }
 ],
 "metadata": {
  "kernelspec": {
   "display_name": "Python 3",
   "language": "python",
   "name": "python3"
  },
  "language_info": {
   "codemirror_mode": {
    "name": "ipython",
    "version": 3
   },
   "file_extension": ".py",
   "mimetype": "text/x-python",
   "name": "python",
   "nbconvert_exporter": "python",
   "pygments_lexer": "ipython3",
   "version": "3.7.9"
  }
 },
 "nbformat": 4,
 "nbformat_minor": 4
}
