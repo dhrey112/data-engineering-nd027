{
 "cells": [
  {
   "cell_type": "markdown",
   "metadata": {},
   "source": [
    "# Creating Normalized Tables in PostgresSQL"
   ]
  },
  {
   "cell_type": "code",
   "execution_count": 1,
   "metadata": {},
   "outputs": [],
   "source": [
    "import psycopg2"
   ]
  },
  {
   "cell_type": "markdown",
   "metadata": {},
   "source": [
    "### Let's create the connection to the db and get a cursor for query."
   ]
  },
  {
   "cell_type": "code",
   "execution_count": 2,
   "metadata": {},
   "outputs": [],
   "source": [
    "try:\n",
    "    conn = psycopg2.connect(\"host=localhost user=postgres password=uncle1dee\")\n",
    "except psycopg2.Error as e:\n",
    "    print(\"Error: Could not make connection to the Postgres database\")\n",
    "\n",
    "try:\n",
    "    cur = conn.cursor()\n",
    "except psycopg2.Error as e:\n",
    "    print(\"Error: Could not get cursor to the database\")\n",
    "    print(e)\n",
    "\n",
    "conn.set_session(autocommit=True)    \n"
   ]
  },
  {
   "cell_type": "markdown",
   "metadata": {},
   "source": [
    "### Create the database"
   ]
  },
  {
   "cell_type": "code",
   "execution_count": 3,
   "metadata": {},
   "outputs": [
    {
     "name": "stdout",
     "output_type": "stream",
     "text": [
      "database \"udacity\" already exists\n",
      "\n"
     ]
    }
   ],
   "source": [
    "\n",
    "try:\n",
    "    cur.execute(\"create database udacity\")\n",
    "except psycopg2.Error as e:\n",
    "    print(e)"
   ]
  },
  {
   "cell_type": "markdown",
   "metadata": {},
   "source": [
    "### We will be creating a music library for this demo.\n",
    "\n",
    "#### Table Name: music_library\n",
    "#### Column 1: Album Name\n",
    "#### Column 2: Artist Name\n",
    "#### Column 3: Year\n",
    "#### Column 4: song_title\n",
    "#### column 5: single"
   ]
  },
  {
   "cell_type": "code",
   "execution_count": 4,
   "metadata": {},
   "outputs": [
    {
     "name": "stdout",
     "output_type": "stream",
     "text": [
      "(1, 'Rubber Soul', 'The Beatles', 1965, ['Michelle', 'Think For Yourself', 'In my Life'])\n",
      "(2, 'Let It Be', 'The Beatles', 1970, ['Let It Be', 'Across the universe'])\n"
     ]
    }
   ],
   "source": [
    "\n",
    "try:\n",
    "    cur.execute(\"CREATE TABLE IF NOT EXISTS music_library (album_id int, album_name varchar, artist_name varchar, year int, songs text[]);\")\n",
    "except psycopg2.Error as e:\n",
    "    print(\"Error: Issue creating table\")\n",
    "    print(e)\n",
    "    \n",
    "try:\n",
    "    cur.execute(\"INSERT INTO music_library (album_id, album_name, artist_name, year, songs) VALUES (%s, %s, %s, %s, %s)\",\n",
    "                (1, \"Rubber Soul\", \"The Beatles\", 1965, [\"Michelle\", \"Think For Yourself\", \"In my Life\"]))\n",
    "except psycopg2.Error as e:\n",
    "        print(\"Error: Inserting Rows\")\n",
    "        print(e)\n",
    "        \n",
    "try:\n",
    "    cur.execute(\"INSERT INTO music_library (album_id, album_name, artist_name, year, songs) VALUES (%s, %s, %s, %s, %s)\",\n",
    "                (2, \"Let It Be\", \"The Beatles\", 1970, [\"Let It Be\",\"Across the universe\"]))\n",
    "              \n",
    "except psycopg2.Error as e:\n",
    "        print(\"Error: Inserting Rows\")\n",
    "        print(e)\n",
    "        \n",
    "try:\n",
    "    cur.execute(\"SELECT * FROM music_library;\")\n",
    "except psycopg2.Error as e:\n",
    "    print(\"Error: select *\")\n",
    "    print(e)\n",
    "\n",
    "row = cur.fetchone()\n",
    "while row:\n",
    "    print(row)\n",
    "    row = cur.fetchone()"
   ]
  },
  {
   "cell_type": "markdown",
   "metadata": {},
   "source": [
    "## Moving to Normal Form (1NF)\n",
    "\n",
    "We need to break up the list of songs into individuals rows to get a normalised table"
   ]
  },
  {
   "cell_type": "code",
   "execution_count": 5,
   "metadata": {},
   "outputs": [
    {
     "name": "stdout",
     "output_type": "stream",
     "text": [
      "(1, 'Rubber Soul', 'The Beatles', 1965, 'Michelle')\n",
      "(1, 'Rubber Soul', 'The Beatles', 1965, 'Think For Yourself')\n",
      "(1, 'Rubber Soul', 'The Beatles', 1965, 'In my Life')\n",
      "(2, 'Let It Be', 'The Beatles', 1970, 'Let It Be')\n",
      "(2, 'Let It Be', 'The Beatles', 1970, 'Across the universe')\n"
     ]
    }
   ],
   "source": [
    "try:\n",
    "    cur.execute(\"CREATE TABLE IF NOT EXISTS music_library2 (album_id int, album_name varchar, artist_name varchar, year int, songs_name varchar);\")\n",
    "except psycopg2.Error as e:\n",
    "    print(\"Error: Issue creating table\")\n",
    "    \n",
    "try:\n",
    "    cur.execute(\"INSERT INTO music_library2 (album_id, album_name, artist_name, year, songs_name) VALUES (%s, %s, %s, %s, %s)\",\n",
    "                (1, \"Rubber Soul\", \"The Beatles\", 1965, \"Michelle\"))\n",
    "except psycopg2.Error as e:\n",
    "        print(\"Error: Inserting Rows\")\n",
    "        print(e)\n",
    "try:\n",
    "    cur.execute(\"INSERT INTO music_library2 (album_id, album_name, artist_name, year, songs_name) VALUES (%s, %s, %s, %s, %s)\",\n",
    "                (1, \"Rubber Soul\", \"The Beatles\", 1965, \"Think For Yourself\"))\n",
    "except psycopg2.Error as e:\n",
    "        print(\"Error: Inserting Rows\")\n",
    "        print(e)\n",
    "        \n",
    "try:\n",
    "    cur.execute(\"INSERT INTO music_library2 (album_id, album_name, artist_name, year, songs_name) VALUES (%s, %s, %s, %s, %s)\",\n",
    "                (1, \"Rubber Soul\", \"The Beatles\", 1965, \"In my Life\"))\n",
    "except psycopg2.Error as e:\n",
    "        print(\"Error: Inserting Rows\")\n",
    "        print(e)\n",
    "        \n",
    "try:\n",
    "    cur.execute(\"INSERT INTO music_library2 (album_id, album_name, artist_name, year, songs_name) VALUES (%s, %s, %s, %s, %s)\",\n",
    "                (2, \"Let It Be\", \"The Beatles\", 1970, \"Let It Be\"))\n",
    "              \n",
    "except psycopg2.Error as e:\n",
    "        print(\"Error: Inserting Rows\")\n",
    "        print(e)\n",
    "        \n",
    "try:\n",
    "    cur.execute(\"INSERT INTO music_library2 (album_id, album_name, artist_name, year, songs_name) VALUES (%s, %s, %s, %s, %s)\",\n",
    "                (2, \"Let It Be\", \"The Beatles\", 1970, \"Across the universe\"))\n",
    "              \n",
    "except psycopg2.Error as e:\n",
    "        print(\"Error: Inserting Rows\")\n",
    "        print(e)\n",
    "\n",
    "try:\n",
    "    cur.execute(\"SELECT * FROM music_library2\")\n",
    "except psycopg2.Error as e:\n",
    "    print(\"Error: select *\")\n",
    "    print(e)\n",
    "    \n",
    "row = cur.fetchone()\n",
    "while row:\n",
    "    print(row)\n",
    "    row = cur.fetchone()"
   ]
  },
  {
   "cell_type": "markdown",
   "metadata": {},
   "source": [
    "## Moving to 2nd Normal Form (2NF)\n",
    "\n",
    "Looking at the table music_library2 the album_id is not unique though it is the primary key. TO make it unique, we will break the table into two tables, album library and song library\n",
    "\n"
   ]
  },
  {
   "cell_type": "code",
   "execution_count": 6,
   "metadata": {},
   "outputs": [
    {
     "name": "stdout",
     "output_type": "stream",
     "text": [
      "\n",
      "Table: Album Library\n",
      "(1, 'Rubber Soul', 'The Beatles', 1965)\n",
      "(2, 'Let It Be', 'The Beatles', 1970)\n",
      "\n",
      "Table: Song Library\n",
      "(1, 1, 'Michelle')\n",
      "(2, 1, 'Think For Yourself')\n",
      "(3, 1, 'In my Life')\n",
      "(4, 2, 'Let It Be')\n",
      "(5, 2, 'Across the Universe')\n"
     ]
    }
   ],
   "source": [
    "try:\n",
    "    cur.execute(\"CREATE TABLE IF NOT EXISTS album_library (album_id int, album_name varchar, artist_name varchar, year int);\")\n",
    "except psycopg2.Error as e:\n",
    "    print(\"Error: Issue creating table\")\n",
    "\n",
    "try:\n",
    "    cur.execute(\"CREATE TABLE IF NOT EXISTS song_library (song_id int, album_id int, song_name varchar);\")\n",
    "except psycopg2.Error as e:\n",
    "    print(\"Error: Issue creating table\")\n",
    " \n",
    "\n",
    "    \n",
    "try:\n",
    "    cur.execute(\"INSERT INTO album_library (album_id, album_name, artist_name, year) VALUES (%s, %s, %s, %s)\",\n",
    "                (1, \"Rubber Soul\", \"The Beatles\", 1965))\n",
    "except psycopg2.Error as e:\n",
    "        print(\"Error: Inserting Rows\")\n",
    "        print(e)\n",
    "try:\n",
    "    cur.execute(\"INSERT INTO album_library (album_id, album_name, artist_name, year) VALUES (%s, %s, %s, %s)\",\n",
    "                (2, \"Let It Be\", \"The Beatles\", 1970))\n",
    "              \n",
    "except psycopg2.Error as e:\n",
    "        print(\"Error: Inserting Rows\")\n",
    "        print(e)\n",
    "        \n",
    "\n",
    "\n",
    "try:\n",
    "    cur.execute(\"INSERT INTO song_library (song_id, album_id, song_name) VALUES (%s, %s, %s)\",\n",
    "                (1, 1, \"Michelle\"))\n",
    "              \n",
    "except psycopg2.Error as e:\n",
    "        print(\"Error: Inserting Rows\")\n",
    "        print(e)\n",
    "        \n",
    "try:\n",
    "    cur.execute(\"INSERT INTO song_library (song_id, album_id, song_name) VALUES (%s, %s, %s)\",\n",
    "                (2, 1, \"Think For Yourself\"))\n",
    "              \n",
    "except psycopg2.Error as e:\n",
    "        print(\"Error: Inserting Rows\")\n",
    "        print(e)\n",
    "        \n",
    "try:\n",
    "    cur.execute(\"INSERT INTO song_library (song_id, album_id, song_name) VALUES (%s, %s, %s)\",\n",
    "                (3, 1, \"In my Life\"))\n",
    "              \n",
    "except psycopg2.Error as e:\n",
    "        print(\"Error: Inserting Rows\")\n",
    "        print(e)\n",
    "        \n",
    "try:\n",
    "    cur.execute(\"INSERT INTO song_library (song_id, album_id, song_name) VALUES (%s, %s, %s)\",\n",
    "                (4, 2, \"Let It Be\"))\n",
    "              \n",
    "except psycopg2.Error as e:\n",
    "        print(\"Error: Inserting Rows\")\n",
    "        print(e)\n",
    "        \n",
    "try:\n",
    "    cur.execute(\"INSERT INTO song_library (song_id, album_id, song_name) VALUES (%s, %s, %s)\",\n",
    "                (5, 2, \"Across the Universe\"))\n",
    "              \n",
    "except psycopg2.Error as e:\n",
    "        print(\"Error: Inserting Rows\")\n",
    "        print(e)\n",
    "        \n",
    "print(\"\\nTable: Album Library\")\n",
    "try:\n",
    "    cur.execute(\"SELECT * FROM album_library\")\n",
    "except psycopg2.Error as e:\n",
    "    print(\"Error: select *\")\n",
    "    print(e)\n",
    "    \n",
    "row = cur.fetchone()\n",
    "while row:\n",
    "    print(row)\n",
    "    row = cur.fetchone()\n",
    "    \n",
    "print(\"\\nTable: Song Library\")\n",
    "\n",
    "try:\n",
    "    cur.execute(\"SELECT * from song_library\")\n",
    "except psycopg2.Error as e:\n",
    "    print(\"Eroor: select *\")\n",
    "    print(e)\n",
    "    \n",
    "row = cur.fetchone()\n",
    "while row:\n",
    "    print(row)\n",
    "    row = cur.fetchone()"
   ]
  },
  {
   "cell_type": "markdown",
   "metadata": {},
   "source": [
    "#### Let's do a JOIN on this table so we can get all the information we had on the first table "
   ]
  },
  {
   "cell_type": "code",
   "execution_count": 7,
   "metadata": {},
   "outputs": [
    {
     "name": "stdout",
     "output_type": "stream",
     "text": [
      "(1, 'Rubber Soul', 'The Beatles', 1965, 1, 1, 'Michelle')\n",
      "(1, 'Rubber Soul', 'The Beatles', 1965, 2, 1, 'Think For Yourself')\n",
      "(1, 'Rubber Soul', 'The Beatles', 1965, 3, 1, 'In my Life')\n",
      "(2, 'Let It Be', 'The Beatles', 1970, 4, 2, 'Let It Be')\n",
      "(2, 'Let It Be', 'The Beatles', 1970, 5, 2, 'Across the Universe')\n"
     ]
    }
   ],
   "source": [
    "try:\n",
    "    cur.execute(\"SELECT * FROM album_library JOIN song_library on album_library.album_id = song_library.album_id;\")\n",
    "except psycopg2.Error as e:\n",
    "    print(\"Error: Select *\")\n",
    "    print(e)\n",
    "    \n",
    "row = cur.fetchone()\n",
    "while row:\n",
    "    print(row)\n",
    "    row = cur.fetchone()"
   ]
  },
  {
   "cell_type": "markdown",
   "metadata": {},
   "source": [
    "## Moving to 3rd Normal Form (3NF)\n",
    "Check the table for any transitive dependencies. Album_labrary can move Artist_name to its own table, called Artists, which will leave us with 3 tables"
   ]
  },
  {
   "cell_type": "code",
   "execution_count": 8,
   "metadata": {},
   "outputs": [
    {
     "name": "stdout",
     "output_type": "stream",
     "text": [
      "\n",
      "Table: Album Library2\n",
      "\n",
      "(1, 'Rubber Soul', 1, 1965)\n",
      "(2, 'Let It Be', 1, 1970)\n",
      "\n",
      "Table: Song Library\n",
      "\n",
      "(1, 1, 'Michelle')\n",
      "(2, 1, 'Think For Yourself')\n",
      "(3, 1, 'In my Life')\n",
      "(4, 2, 'Let It Be')\n",
      "(5, 2, 'Across the Universe')\n",
      "\n",
      "Table: Artist Library\n",
      "\n",
      "(1, 'The Beatles')\n"
     ]
    }
   ],
   "source": [
    "try:\n",
    "    cur.execute(\"CREATE TABLE IF NOT EXISTS album_library2 (album_id int, album_name varchar, artist_id int, year int);\")\n",
    "except psycopg2.Error as e:\n",
    "    print(\"Error: Issue creating table\")\n",
    "\n",
    "try:\n",
    "    cur.execute(\"CREATE TABLE IF NOT EXISTS artist_library (artist_id int, artist_name varchar);\")\n",
    "except psycopg2.Error as e:\n",
    "    print(\"Error: Issue creating table\")\n",
    " \n",
    "\n",
    "    \n",
    "try:\n",
    "    cur.execute(\"INSERT INTO album_library2 (album_id, album_name, artist_id, year) VALUES (%s, %s, %s, %s)\",\n",
    "                (1, \"Rubber Soul\", 1, 1965))\n",
    "except psycopg2.Error as e:\n",
    "        print(\"Error: Inserting Rows\")\n",
    "        print(e)\n",
    "try:\n",
    "    cur.execute(\"INSERT INTO album_library2 (album_id, album_name, artist_id, year) VALUES (%s, %s, %s, %s)\",\n",
    "                (2, \"Let It Be\", 1, 1970))\n",
    "              \n",
    "except psycopg2.Error as e:\n",
    "        print(\"Error: Inserting Rows\")\n",
    "        print(e)\n",
    "        \n",
    "try:\n",
    "    cur.execute(\"INSERT INTO artist_library (artist_id, artist_name) VALUES (%s, %s)\",\n",
    "                (1, \"The Beatles\"))\n",
    "              \n",
    "except psycopg2.Error as e:\n",
    "        print(\"Error: Inserting Rows\")\n",
    "        print(e)\n",
    "        \n",
    "\n",
    "\n",
    "# try:\n",
    "#     cur.execute(\"INSERT INTO song_library2 (song_id, album_id, song_name) VALUES (%s, %s, %s)\",\n",
    "#                 (1, 1, \"Michelle\"))\n",
    "              \n",
    "# except psycopg2.Error as e:\n",
    "#         print(\"Error: Inserting Rows\")\n",
    "#         print(e)\n",
    "        \n",
    "# try:\n",
    "#     cur.execute(\"INSERT INTO song_library (song_id, album_id, song_name) VALUES (%s, %s, %s)\",\n",
    "#                 (2, 1, \"Think For Yourself\"))\n",
    "              \n",
    "# except psycopg2.Error as e:\n",
    "#         print(\"Error: Inserting Rows\")\n",
    "#         print(e)\n",
    "        \n",
    "# try:\n",
    "#     cur.execute(\"INSERT INTO song_library (song_id, album_id, song_name) VALUES (%s, %s, %s)\",\n",
    "#                 (3, 1, \"In my Life\"))\n",
    "              \n",
    "# except psycopg2.Error as e:\n",
    "#         print(\"Error: Inserting Rows\")\n",
    "#         print(e)\n",
    "        \n",
    "# try:\n",
    "#     cur.execute(\"INSERT INTO song_library (song_id, album_id, song_name) VALUES (%s, %s, %s)\",\n",
    "#                 (4, 2, \"Let It Be\"))\n",
    "              \n",
    "# except psycopg2.Error as e:\n",
    "#         print(\"Error: Inserting Rows\")\n",
    "#         print(e)\n",
    "        \n",
    "# try:\n",
    "#     cur.execute(\"INSERT INTO song_library (song_id, album_id, song_name) VALUES (%s, %s, %s)\",\n",
    "#                 (5, 2, \"Across the Universe\"))\n",
    "              \n",
    "# except psycopg2.Error as e:\n",
    "#         print(\"Error: Inserting Rows\")\n",
    "#         print(e)\n",
    "        \n",
    "print(\"\\nTable: Album Library2\\n\")\n",
    "try:\n",
    "    cur.execute(\"SELECT * FROM album_library2\")\n",
    "except psycopg2.Error as e:\n",
    "    print(\"Error: select *\")\n",
    "    print(e)\n",
    "    \n",
    "row = cur.fetchone()\n",
    "while row:\n",
    "    print(row)\n",
    "    row = cur.fetchone()\n",
    "    \n",
    "print(\"\\nTable: Song Library\\n\")\n",
    "\n",
    "try:\n",
    "    cur.execute(\"SELECT * from song_library\")\n",
    "except psycopg2.Error as e:\n",
    "    print(\"Eroor: select *\")\n",
    "    print(e)\n",
    "    \n",
    "row = cur.fetchone()\n",
    "while row:\n",
    "    print(row)\n",
    "    row = cur.fetchone()\n",
    "    \n",
    "    \n",
    "    \n",
    "print(\"\\nTable: Artist Library\\n\")\n",
    "try:\n",
    "    cur.execute(\"SELECT * FROM artist_library\")\n",
    "except psycopg2.Error as e:\n",
    "    print(\"Error: Select *\")\n",
    "    print(e)\n",
    "    \n",
    "row = cur.fetchone()\n",
    "while row:\n",
    "    print(row)\n",
    "    row = cur.fetchone()"
   ]
  },
  {
   "cell_type": "markdown",
   "metadata": {},
   "source": [
    "#### Let's do two JOIN on these 3 tables so we can all the information we had in our first table"
   ]
  },
  {
   "cell_type": "code",
   "execution_count": 9,
   "metadata": {},
   "outputs": [
    {
     "name": "stdout",
     "output_type": "stream",
     "text": [
      "(1, 'The Beatles', 1, 'Rubber Soul', 1, 1965, 1, 1, 'Michelle')\n",
      "(1, 'The Beatles', 1, 'Rubber Soul', 1, 1965, 2, 1, 'Think For Yourself')\n",
      "(1, 'The Beatles', 1, 'Rubber Soul', 1, 1965, 3, 1, 'In my Life')\n",
      "(1, 'The Beatles', 2, 'Let It Be', 1, 1970, 4, 2, 'Let It Be')\n",
      "(1, 'The Beatles', 2, 'Let It Be', 1, 1970, 5, 2, 'Across the Universe')\n"
     ]
    }
   ],
   "source": [
    "try:\n",
    "    cur.execute(\"SELECT * FROM (artist_library JOIN album_library2 ON artist_library.artist_id = album_library2.artist_id) JOIN song_library on album_library2.album_id = song_library.album_id;\")\n",
    "except psycopg2.Error as e:\n",
    "    print(\"Error: Select *\")\n",
    "    print(e)\n",
    "    \n",
    "row = cur.fetchone()\n",
    "while row:\n",
    "    print(row)\n",
    "    row = cur.fetchone()"
   ]
  },
  {
   "cell_type": "markdown",
   "metadata": {},
   "source": [
    "### Drop all the tables"
   ]
  },
  {
   "cell_type": "code",
   "execution_count": 10,
   "metadata": {},
   "outputs": [],
   "source": [
    "try:\n",
    "    cur.execute(\"DROP table music_library\")\n",
    "except psycopg2.Error as e:\n",
    "    print(\"Error: Dropping table\")\n",
    "    print(e)\n",
    "    \n",
    "try:\n",
    "    cur.execute(\"DROP table music_library2\")\n",
    "except psycopg2.Error as e:\n",
    "    print(\"Error: Dropping table\")\n",
    "    print(e)\n",
    "    \n",
    "try:\n",
    "    cur.execute(\"DROP table song_library\")\n",
    "except psycopg2.Error as e:\n",
    "    print(\"Error: Dropping table\")\n",
    "    print(e)\n",
    "\n",
    "try:\n",
    "    cur.execute(\"DROP table album_library\")\n",
    "except psycopg2.Error as e:\n",
    "    print(\"Error: Dropping table\")\n",
    "    print(e)\n",
    "    \n",
    "try:\n",
    "    cur.execute(\"DROP table album_library2\")\n",
    "except psycopg2.Error as e:\n",
    "    print(\"Error: Dropping table\")\n",
    "    print(e)\n",
    "    \n",
    "try:\n",
    "    cur.execute(\"DROP table artist_library\")\n",
    "except psycopg2.Error as e:\n",
    "    print(\"Error: Dropping table\")\n",
    "    print(e)"
   ]
  },
  {
   "cell_type": "markdown",
   "metadata": {},
   "source": [
    "### And Finally close your cursor and connection."
   ]
  },
  {
   "cell_type": "code",
   "execution_count": 11,
   "metadata": {},
   "outputs": [],
   "source": [
    "cur.close()\n",
    "conn.close()"
   ]
  },
  {
   "cell_type": "code",
   "execution_count": null,
   "metadata": {},
   "outputs": [],
   "source": []
  },
  {
   "cell_type": "code",
   "execution_count": null,
   "metadata": {},
   "outputs": [],
   "source": []
  },
  {
   "cell_type": "code",
   "execution_count": null,
   "metadata": {},
   "outputs": [],
   "source": []
  },
  {
   "cell_type": "code",
   "execution_count": null,
   "metadata": {},
   "outputs": [],
   "source": []
  },
  {
   "cell_type": "code",
   "execution_count": null,
   "metadata": {},
   "outputs": [],
   "source": []
  }
 ],
 "metadata": {
  "kernelspec": {
   "display_name": "Python 3",
   "language": "python",
   "name": "python3"
  },
  "language_info": {
   "codemirror_mode": {
    "name": "ipython",
    "version": 3
   },
   "file_extension": ".py",
   "mimetype": "text/x-python",
   "name": "python",
   "nbconvert_exporter": "python",
   "pygments_lexer": "ipython3",
   "version": "3.7.9"
  }
 },
 "nbformat": 4,
 "nbformat_minor": 4
}
