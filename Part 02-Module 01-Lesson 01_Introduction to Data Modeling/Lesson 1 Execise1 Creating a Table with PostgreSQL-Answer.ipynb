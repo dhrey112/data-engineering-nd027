{
 "cells": [
  {
   "cell_type": "markdown",
   "metadata": {},
   "source": [
    "# Creating, Inserting of values and Dropping Tables in postgres"
   ]
  },
  {
   "cell_type": "code",
   "execution_count": 22,
   "metadata": {},
   "outputs": [],
   "source": [
    "import psycopg2"
   ]
  },
  {
   "cell_type": "markdown",
   "metadata": {},
   "source": [
    "### Let's create the connection to the db and get a cursor for query."
   ]
  },
  {
   "cell_type": "code",
   "execution_count": 23,
   "metadata": {},
   "outputs": [],
   "source": [
    "    \n",
    "try:\n",
    "    conn = psycopg2.connect(\"dbname=udacity user=postgres password=uncle1dee\")\n",
    "except psycopg2.Error as e:\n",
    "    print(\"Error: Could not make connection to the postgres db\")\n",
    "    print(e)\n",
    "\n",
    "try:\n",
    "    cur = conn.cursor()\n",
    "except psycopg2.Error as e:\n",
    "    print(\"Error: Could not get cursor to the database\")\n",
    "    print(e)\n",
    "\n",
    "conn.set_session(autocommit=True)"
   ]
  },
  {
   "cell_type": "markdown",
   "metadata": {},
   "source": [
    "### We will be creating a music library for this demo.\n",
    "\n",
    "#### Table Name: music_library\n",
    "#### Column 1: Album Name\n",
    "#### Column 2: Artist Name\n",
    "#### Column 3: Year\n",
    "#### Column 4: song_title\n",
    "#### column 5: single"
   ]
  },
  {
   "cell_type": "code",
   "execution_count": 24,
   "metadata": {},
   "outputs": [],
   "source": [
    "\n",
    "try:\n",
    "    cur.execute(\"CREATE TABLE IF NOT EXISTS music_library (song_title varchar, album_name varchar, artist_name varchar, year int, single boolean);\")\n",
    "except psycopg2.Error as e:\n",
    "    print(\"Error: Issue creating table\")\n",
    "    print(e)"
   ]
  },
  {
   "cell_type": "markdown",
   "metadata": {},
   "source": [
    "### Let\"s if the table is created which should return 0 as we have not inserted any rows."
   ]
  },
  {
   "cell_type": "code",
   "execution_count": 25,
   "metadata": {},
   "outputs": [
    {
     "name": "stdout",
     "output_type": "stream",
     "text": [
      "[(0,)]\n"
     ]
    }
   ],
   "source": [
    "try:\n",
    "    cur.execute('select count(*) from music_library')\n",
    "except psycopg2.Error as e:\n",
    "    print(\"Error: Issue creating table\")\n",
    "    print(e)\n",
    "    \n",
    "print(cur.fetchall())"
   ]
  },
  {
   "cell_type": "markdown",
   "metadata": {},
   "source": [
    "### Let'sinsert two rows\n",
    "Note the syntax here\n"
   ]
  },
  {
   "cell_type": "code",
   "execution_count": 27,
   "metadata": {},
   "outputs": [],
   "source": [
    "try:\n",
    "    cur.execute(\"INSERT INTO music_library (song_title, album_name, artist_name, year, single) VALUES (%s, %s, %s, %s, %s)\",\n",
    "               (\"Across the universe\", \"Let It Be\", \"The Beatles\", 1970, False))\n",
    "except psycopg2.Error as e:\n",
    "        print(\"Error: Inserting Rows\")\n",
    "        print(e)\n",
    "        \n",
    "try:\n",
    "    cur.execute(\"INSERT INTO music_library (song_title, album_name, artist_name, year, single) VALUES (%s, %s, %s, %s, %s)\",\n",
    "               (\"Think For Yourself\", \"Rubber Soul\", \"The Beatles\", 1970, False))\n",
    "except psycopg2.Error as e:\n",
    "        print(\"Error: Inserting Rows\")\n",
    "        print(e)"
   ]
  },
  {
   "cell_type": "markdown",
   "metadata": {},
   "source": [
    "## Validate the data was inserted into the table\n",
    "\n",
    "Note: The while loop is used for printing the results which is not needed if using PostgreSQL shell\n",
    "\n",
    "Note: PostgreSQL allows for duplicate\n",
    "\n",
    "Dupliction was implemented \n"
   ]
  },
  {
   "cell_type": "code",
   "execution_count": 28,
   "metadata": {},
   "outputs": [
    {
     "name": "stdout",
     "output_type": "stream",
     "text": [
      "('Across the universe', 'Let It Be', 'The Beatles', 1970, False)\n",
      "('Think For Yourself', 'Rubber Soul', 'The Beatles', 1970, False)\n",
      "('Across the universe', 'Let It Be', 'The Beatles', 1970, False)\n",
      "('Think For Yourself', 'Rubber Soul', 'The Beatles', 1970, False)\n"
     ]
    }
   ],
   "source": [
    "try:\n",
    "    cur.execute(\"SELECT * FROM music_library;\")\n",
    "except psycopg2.Error as e:\n",
    "    print(\"Error: select *\")\n",
    "    print(e)\n",
    "\n",
    "row = cur.fetchone()\n",
    "while row:\n",
    "    print(row)\n",
    "    row = cur.fetchone()"
   ]
  },
  {
   "cell_type": "code",
   "execution_count": 29,
   "metadata": {},
   "outputs": [],
   "source": [
    "#cur.execute(\"drop table music_library\")"
   ]
  },
  {
   "cell_type": "markdown",
   "metadata": {},
   "source": [
    "### And Finally close your cursor and connection."
   ]
  },
  {
   "cell_type": "code",
   "execution_count": 30,
   "metadata": {},
   "outputs": [],
   "source": [
    "cur.close()\n",
    "conn.close()"
   ]
  },
  {
   "cell_type": "code",
   "execution_count": null,
   "metadata": {},
   "outputs": [],
   "source": []
  },
  {
   "cell_type": "code",
   "execution_count": null,
   "metadata": {},
   "outputs": [],
   "source": []
  },
  {
   "cell_type": "code",
   "execution_count": null,
   "metadata": {},
   "outputs": [],
   "source": []
  },
  {
   "cell_type": "code",
   "execution_count": null,
   "metadata": {},
   "outputs": [],
   "source": []
  }
 ],
 "metadata": {
  "kernelspec": {
   "display_name": "Python 3",
   "language": "python",
   "name": "python3"
  },
  "language_info": {
   "codemirror_mode": {
    "name": "ipython",
    "version": 3
   },
   "file_extension": ".py",
   "mimetype": "text/x-python",
   "name": "python",
   "nbconvert_exporter": "python",
   "pygments_lexer": "ipython3",
   "version": "3.7.9"
  }
 },
 "nbformat": 4,
 "nbformat_minor": 4
}
